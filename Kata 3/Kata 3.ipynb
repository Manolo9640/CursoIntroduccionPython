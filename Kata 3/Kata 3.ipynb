{
 "cells": [
  {
   "cell_type": "markdown",
   "metadata": {},
   "source": [
    "# Ejercicio 1\n",
    "\n",
    "### Añadir el código necesario para crear una variable que guarde la velocidad del asteroide.\n",
    "### Escribe una expresión de prueba para calcular si necesita una advertencia.\n",
    "### Agregue las instrucciones que se ejecutarán si la expresión de prueba es true o false."
   ]
  },
  {
   "cell_type": "code",
   "execution_count": 2,
   "metadata": {},
   "outputs": [
    {
     "name": "stdout",
     "output_type": "stream",
     "text": [
      "¡Sigue navegando por el espacio!\n"
     ]
    }
   ],
   "source": [
    "asteroide = 49 #\n",
    "\n",
    "#Inicio de instruccion if\n",
    "if asteroide > 25:\n",
    "    print('¡ALERTA! ¡ALERTA! ¡Se aproxima un asteroide altamente peligrosa!')\n",
    "\n",
    "else:\n",
    "    \n",
    "    print('¡Sigue navegando por el espacio!')"
   ]
  },
  {
   "cell_type": "markdown",
   "metadata": {},
   "source": [
    "# Ejercicio 2\n",
    "\n",
    "### Agrega el código para crear una variable para un asteroide que viaja a 19 km/s\n",
    "### Escribe varias expresiones de prueba para determinar si puedes ver el rayo de luz desde la tierra\n",
    "### Agrega las instrucciones que se ejecutarán si las expresiones de prueba son True o False"
   ]
  },
  {
   "cell_type": "code",
   "execution_count": 5,
   "metadata": {},
   "outputs": [
    {
     "name": "stdout",
     "output_type": "stream",
     "text": [
      "¡Mira!¡Mira! ¡Hay una luz mágica en el cielo!\n"
     ]
    }
   ],
   "source": [
    "asteroide = 29\n",
    "\n",
    "#Inicio de instruccion if\n",
    "if asteroide > 20:\n",
    "    print('¡Mira!¡Mira! ¡Hay una luz mágica en el cielo!')\n",
    "\n",
    "elif asteroide == 20:\n",
    "    print('¡Mira!¡Mira! ¡Hay una luz mágica en el cielo!')\n",
    "    \n",
    "else:\n",
    "    print('¡Nada que ver aquí!')"
   ]
  },
  {
   "cell_type": "markdown",
   "metadata": {},
   "source": [
    "# Ejercicio 3\n",
    "\n",
    "### Agrega el código para crear nuevas variables para la velocidad y el tamaño del asteroide\n",
    "### Para probar el código, prueba con varias velocidades y tamaños\n",
    "### Escribe varias expresiones de prueba o combinaciones de expresiones de prueba para determinar qué mensaje se debe enviar a Tierra."
   ]
  },
  {
   "cell_type": "code",
   "execution_count": 13,
   "metadata": {},
   "outputs": [
    {
     "name": "stdout",
     "output_type": "stream",
     "text": [
      "¡ALERTA! ¡ALERTA! ¡Se aproxima un asteroide a una velocidad altamente peligrosa Tierra!\n"
     ]
    }
   ],
   "source": [
    "v_asteroide = 100\n",
    "tamano_asteroide = 35\n",
    "\n",
    "#Inicio de instruccion if (and)\n",
    "if v_asteroide > 25 and tamano_asteroide > 25:\n",
    "    print('¡ALERTA! ¡ALERTA! ¡Se aproxima un asteroide a una velocidad altamente peligrosa Tierra!')\n",
    "\n",
    "elif v_asteroide >= 20:\n",
    "    print('¡Mira! ¡Hay una luz mágica en el cielo!')\n",
    "\n",
    "elif tamano_asteroide < 25:\n",
    "    print('Nada que ver aquí :D')\n",
    "\n",
    "else:\n",
    "    print('Nada que ver aquí :D')"
   ]
  }
 ],
 "metadata": {
  "interpreter": {
   "hash": "2a0c8f8e338af8b7953e34498ebe7bdb71bb58f46633dfc7536fdf9b653f6e11"
  },
  "kernelspec": {
   "display_name": "Python 3.10.2 64-bit (windows store)",
   "language": "python",
   "name": "python3"
  },
  "language_info": {
   "codemirror_mode": {
    "name": "ipython",
    "version": 3
   },
   "file_extension": ".py",
   "mimetype": "text/x-python",
   "name": "python",
   "nbconvert_exporter": "python",
   "pygments_lexer": "ipython3",
   "version": "3.10.2"
  },
  "orig_nbformat": 4
 },
 "nbformat": 4,
 "nbformat_minor": 2
}
